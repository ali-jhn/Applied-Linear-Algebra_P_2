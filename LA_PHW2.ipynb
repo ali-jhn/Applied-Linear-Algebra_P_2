{
 "cells": [
  {
   "attachments": {},
   "cell_type": "markdown",
   "metadata": {},
   "source": [
    "# Linear Algebra Practical Homework 2:\n",
    "\n",
    "The following assignment consists of:\n",
    "1. Implementation of elementary row operations : Scaling, Replacement, Interchange\n",
    "2. Using the defined functions to find the answer of a system\n",
    "3. Calculation of the determinant\n",
    "4. EXTRA - Plotting the answer\n",
    "\n",
    "TAs in charge: @ayrozz , @alijahan890"
   ]
  },
  {
   "cell_type": "markdown",
   "metadata": {},
   "source": [
    "Please fill in the following information:\n",
    "\n",
    "- Student: [Your name]\n",
    "- Student ID: [Your student ID]"
   ]
  },
  {
   "cell_type": "markdown",
   "source": [
    "# How to complete this notebook?\n",
    "To complete this notebook you just need to change the parts of code that is marked by comment `#CHNAGE THIS PART`. Please do not change cells that contains comment `# DO NOT CHANGE THIS CELL`. These cells are for evaluating your implementation."
   ],
   "metadata": {
    "collapsed": false
   }
  },
  {
   "attachments": {},
   "cell_type": "markdown",
   "metadata": {},
   "source": [
    "# Attention!\n",
    " - You are free to add, remove or edit each cell in any way you desire.\n",
    " - We strongly recommend you to observe the default order of different parts of this file.\n",
    " - NO PREDEFINED BUILT-IN FUNCTION OF EXTERNAL LIBRARIES SUCH AS NUMPY IS ALLOWED!"
   ]
  },
  {
   "attachments": {},
   "cell_type": "markdown",
   "metadata": {},
   "source": [
    "### 0. Libraries"
   ]
  },
  {
   "cell_type": "code",
   "execution_count": null,
   "metadata": {
    "is_executing": true
   },
   "outputs": [],
   "source": [
    "import time\n",
    "import matplotlib\n",
    "import numpy as np"
   ]
  },
  {
   "attachments": {},
   "cell_type": "markdown",
   "metadata": {},
   "source": [
    "## 1. Implementation of elementary row operations\n",
    "Implement these operations from scratch, for they will be used for upcoming sections\n"
   ]
  },
  {
   "attachments": {},
   "cell_type": "markdown",
   "metadata": {},
   "source": [
    "### 1.1. Scaling"
   ]
  },
  {
   "cell_type": "code",
   "execution_count": null,
   "metadata": {},
   "outputs": [],
   "source": [
    "def op_scale(A, R, C):\n",
    "    #CHNAGE THIS PART\n",
    "    \"\"\" Multiply the R-th row of the matrix A by C, and return the new matrix \"\"\""
   ]
  },
  {
   "cell_type": "code",
   "outputs": [],
   "source": [
    "#e.g.\n",
    "# DO NOT CHANGE THIS CELL\n",
    "A = np.array([[10, 3, 2, 1],\n",
    "               [ 1, 0, 4, 2],\n",
    "               [ 7, 5,-1, 9],\n",
    "               [-6,-7, 8,-4]])\n",
    "\n",
    "op_scale(A, 2, 3)\n",
    " \n",
    "\"\"\"\n",
    " Expected_output = [[10, 3, 2, 1],\n",
    "                    [ 3, 0,12, 6],\n",
    "                    [ 7, 5,-1, 9],\n",
    "                    [-6,-7, 8,-4]]\n",
    "\"\"\"\n"
   ],
   "metadata": {
    "collapsed": false,
    "is_executing": true
   }
  },
  {
   "attachments": {},
   "cell_type": "markdown",
   "metadata": {},
   "source": [
    "### 1.2. Interchange"
   ]
  },
  {
   "cell_type": "code",
   "execution_count": null,
   "metadata": {},
   "outputs": [],
   "source": [
    "def op_interchange(A, R1, R2):\n",
    "    #CHNAGE THIS PART\n",
    "    \"\"\" Replace R1-th and R2-th rows in the matrix A, and return the new matrix \"\"\""
   ]
  },
  {
   "cell_type": "code",
   "outputs": [],
   "source": [
    "# e.g.\n",
    "# DO NOT CHANGE THIS CELL\n",
    "op_interchange(A, 3, 4)\n",
    "\"\"\"\n",
    "Expected_output = [[10, 3, 2, 1],\n",
    "                    [ 3, 0,12, 6],\n",
    "                    [-6,-7, 8,-4],\n",
    "                    [ 7, 5,-1, 9]]\n",
    "\"\"\""
   ],
   "metadata": {
    "collapsed": false
   }
  },
  {
   "attachments": {},
   "cell_type": "markdown",
   "metadata": {},
   "source": [
    "### 1.3. Replace"
   ]
  },
  {
   "cell_type": "code",
   "execution_count": null,
   "metadata": {},
   "outputs": [],
   "source": [
    "def op_replace(A, R1, R2 , C):\n",
    "    #CHNAGE THIS PART\n",
    "    \"\"\" Replace the R2-th row with (R2 + C*R1), and return the new matrix \"\"\""
   ]
  },
  {
   "cell_type": "code",
   "outputs": [],
   "source": [
    "# e.g.\n",
    "# DO NOT CHANGE THIS CELL\n",
    "op_replace(A, 2, 1, 4)\n",
    "\"\"\"\n",
    "Expected_output = [[22, 3,50,25],\n",
    "                   [ 3, 0,12, 6],\n",
    "                   [-6,-7, 8,-4],\n",
    "                   [ 7, 5,-1, 9]]\n",
    "\"\"\"\n"
   ],
   "metadata": {
    "collapsed": false
   }
  },
  {
   "attachments": {},
   "cell_type": "markdown",
   "metadata": {},
   "source": [
    "## 2. Solving a system of linear equations\n",
    "In this part, you are required to use the functions defined in the previous part to find the solution to a linear system of equations.\n"
   ]
  },
  {
   "attachments": {},
   "cell_type": "markdown",
   "metadata": {},
   "source": [
    "### 2.1. Row Echelon Form"
   ]
  },
  {
   "cell_type": "code",
   "execution_count": null,
   "metadata": {},
   "outputs": [],
   "source": [
    "def row_echelon(A):\n",
    "    #CHNAGE THIS PART\n",
    "    \"\"\" Define an algorithm to find the row-echelon form of the input matrix, row-echelon form of a matrix is not unique, so any true row-echelon form is acceptable.\"\"\""
   ]
  },
  {
   "cell_type": "code",
   "outputs": [],
   "source": [
    "#e.g.\n",
    "# DO NOT CHANGE THIS CELL\n",
    "B = np.array([[ 1, 2, 3, 4],\n",
    "              [ 5, 6, 7, 8],\n",
    "              [ 9,10,11,12]])\n",
    "row_echelon(B)\n",
    "\"\"\"\"\n",
    "Notice that any true row-echelon form is acceptable. An example is given below:\n",
    "([[ 1, 2, 3, 4],\n",
    "  [ 0,-4,-8,-12],\n",
    "  [ 0, 0, 0, 0]])\n",
    "\"\"\"\n"
   ],
   "metadata": {
    "collapsed": false
   }
  },
  {
   "attachments": {},
   "cell_type": "markdown",
   "metadata": {},
   "source": [
    "### 2.2. Reduce Row Echelon Form"
   ]
  },
  {
   "cell_type": "code",
   "execution_count": null,
   "metadata": {},
   "outputs": [],
   "source": [
    "def reduce(A):\n",
    "    #CHNAGE THIS PART\n",
    "    \"\"\" Define an algorithm to find the reduced-row-echelon form of the input matrix \n",
    "        ATTENTION : Assume  the input matrix is already in row-echelon form!\"\"\""
   ]
  },
  {
   "cell_type": "code",
   "outputs": [],
   "source": [
    "# e.g.\n",
    "# DO NOT CHANGE THIS CELL\n",
    "B = np.array([[ 1, 2, 3, 4],\n",
    "              [ 0,-4,-8,-12],\n",
    "              [ 0, 0, 0, 0]])\n",
    "reduce(B)\n",
    "\"\"\"\n",
    "Expected_output = [[ 1, 0,-1,-2],\n",
    "                   [ 0, 1, 2, 3],\n",
    "                   [ 0, 0, 0, 0]]\n",
    "\"\"\""
   ],
   "metadata": {
    "collapsed": false
   }
  },
  {
   "attachments": {},
   "cell_type": "markdown",
   "metadata": {},
   "source": [
    "### 2.3. Existence of the Solution\n",
    "Based on the reduced form of the augmented matrix and prior to finding the answer, make sure the solution exists!"
   ]
  },
  {
   "cell_type": "code",
   "execution_count": null,
   "metadata": {},
   "outputs": [],
   "source": [
    "def is_consistent(A):\n",
    "    #CHNAGE THIS PART\n",
    "    \"\"\" Make sure the system has a solution or not \"\"\""
   ]
  },
  {
   "cell_type": "code",
   "outputs": [],
   "source": [
    "#e.g.\n",
    "# DO NOT CHANGE THIS CELL\n",
    "is_consistent(B)\n",
    "\"\"\"\n",
    "expected_output: true\n",
    "\"\"\""
   ],
   "metadata": {
    "collapsed": false
   }
  },
  {
   "attachments": {},
   "cell_type": "markdown",
   "metadata": {},
   "source": [
    "### 2.4. Uniqueness of the Solution\n",
    "Based on prior information, make sure whether the solution is unique or not!"
   ]
  },
  {
   "cell_type": "code",
   "execution_count": null,
   "metadata": {
    "is_executing": true
   },
   "outputs": [],
   "source": [
    "def is_unique(A):\n",
    "    #CHNAGE THIS PART\n",
    "    \"\"\" Address the uniqueness of solution \"\"\""
   ]
  },
  {
   "cell_type": "code",
   "outputs": [],
   "source": [
    "#e.g.\n",
    "# DO NOT CHANGE THIS CELL\n",
    "is_unique(B)\n",
    "\"\"\"\n",
    "expected_output: false\n",
    "\"\"\""
   ],
   "metadata": {
    "collapsed": false
   }
  },
  {
   "attachments": {},
   "cell_type": "markdown",
   "metadata": {},
   "source": [
    "### 2.5. Finding (just a) Solution\n",
    "If the system has a solution, find and return it.\n",
    "If the system has infinite solutions, return only one solution and double-check it with the original system defintion."
   ]
  },
  {
   "cell_type": "code",
   "execution_count": null,
   "metadata": {},
   "outputs": [],
   "source": [
    "def solve(A):\n",
    "    #CHNAGE THIS PART\n",
    "    \"\"\" Find the solution, A is the augmented matrix \"\"\""
   ]
  },
  {
   "attachments": {},
   "cell_type": "markdown",
   "metadata": {},
   "source": [
    "## 3. Determinant\n",
    "In this section, you are requiered to find the determinant of a matrix in two different ways and compare them in the sense of computation complexity.\n"
   ]
  },
  {
   "attachments": {},
   "cell_type": "markdown",
   "metadata": {},
   "source": [
    "### 3.1. Recursive algorithm\n",
    "Implement a recursive algorithm to compute the determinant of a N*N matrix, using expansion with respect to a column or a row.\n"
   ]
  },
  {
   "cell_type": "code",
   "execution_count": null,
   "metadata": {},
   "outputs": [],
   "source": [
    "def det_recursive(A):\n",
    "    #CHNAGE THIS PART\n",
    "    \"\"\" Find the determinant of the matrix A, make sure it is a square matrix and raise an error otherwise \"\"\""
   ]
  },
  {
   "cell_type": "code",
   "outputs": [],
   "source": [
    "#e.g.\n",
    "# DO NOT CHANGE THIS CELL\n",
    "Matrix = np.array([[ 5, 7,-2, 1],\n",
    "                   [-1, 5,-3, 0],\n",
    "                   [ 3,11,-2,-9],\n",
    "                   [ 8, 0, 4,-1]])\n",
    "print(det_recursive(Matrix))\n",
    "\"\"\"\n",
    "expected_output = 190\n",
    "\"\"\""
   ],
   "metadata": {
    "collapsed": false
   }
  },
  {
   "cell_type": "markdown",
   "metadata": {},
   "source": [
    "#### 3.1.1. Test your algorithm\n",
    "Measure the computation time of you recursive algorithm by testing it N*N matrixes, N= 2, 3, 4, 5, 6, 7"
   ]
  },
  {
   "cell_type": "code",
   "execution_count": null,
   "metadata": {
    "is_executing": true
   },
   "outputs": [],
   "source": [
    "# Testing\n",
    "M2 = [[4,5],[2,3]]\n",
    "M3 = [[3,2,1],[2,2,2],[0,3,1]]\n",
    "# M4 = \n",
    "# define the rest of the matrixes up to 7*7, you may use random number generators\n",
    "\n",
    "elapsed_time_recursive=[0]*6\n",
    "\n",
    "start_time = time.time()\n",
    "d1 = det_recursive(M2)\n",
    "end_time = time.time()\n",
    "elapsed_time_recursive[0] = end_time - start_time\n",
    "print(\"Time Elapsed for recursive computation of determinant of M2 : \" , elapsed_time_recursive[0])\n",
    "\n",
    "# Do the same for the rest of the matrices up to 7*7\n"
   ]
  },
  {
   "attachments": {},
   "cell_type": "markdown",
   "metadata": {},
   "source": [
    "### 3.2. Row Echelon\n",
    "Use the function defined in part 1 to find the row echelon form of the matrix and calculate the determinant\n",
    "\n",
    "#### ATTENTION: BEWARE OF THE IMPACT OF EACH OPERATION ON THE DETERMINANT!"
   ]
  },
  {
   "cell_type": "code",
   "execution_count": null,
   "metadata": {},
   "outputs": [],
   "source": [
    "def det_row_echelon(A):\n",
    "    #CHNAGE THIS PART\n",
    "    \"\"\" Find the determinant of the matrix A, make sure it is a square matrix and raise error otherwise \"\"\""
   ]
  },
  {
   "attachments": {},
   "cell_type": "markdown",
   "metadata": {},
   "source": [
    "#### 3.2.1 Test your algorithm\n",
    "Measure the computation time of you recursive algorithm by testing it on the matrixes defined in the previous section."
   ]
  },
  {
   "cell_type": "code",
   "execution_count": null,
   "metadata": {},
   "outputs": [],
   "source": [
    "# Testing\n",
    "elapsed_time_rowechelon=[0]*6\n",
    "\n",
    "start_time = time.time()\n",
    "d1 = det_row_echelon(M2)\n",
    "end_time= time.time()\n",
    "elapsed_time_rowechelon[0] = end_time - start_time\n",
    "\n",
    "print(\"Time Elapsed for recursive computation of determinant of M2 : \" , elapsed_time_rowechelon[0])\n",
    "\n",
    "# Do the same for the rest of the matrices up to 7*7"
   ]
  },
  {
   "attachments": {},
   "cell_type": "markdown",
   "metadata": {},
   "source": [
    "### 3.3. Compare the computation time of the two proposed methods\n",
    "Try to plot the computation time versus matrix size for both methods using matplotlib functions."
   ]
  },
  {
   "cell_type": "code",
   "execution_count": null,
   "metadata": {},
   "outputs": [],
   "source": [
    "# Plot the recorded data"
   ]
  },
  {
   "attachments": {},
   "cell_type": "markdown",
   "metadata": {},
   "source": [
    "## 4. EXTRA - 2D and 3D plotting\n",
    "In this part, you are demanded to solve two underdetermined systems of size N=2 and N=3 and plot the hyperplane of the results using matplotlib.\n",
    "For example if a 2*2 system in underdetermined (has infinitely many solutions), the solution space is the span of a vector set consisting of one 2-dimentional vector, thus it can be plotted as a line in the 2D space.\n",
    "\n",
    "Solving this part will provide you with extra points."
   ]
  },
  {
   "cell_type": "code",
   "execution_count": null,
   "metadata": {},
   "outputs": [],
   "source": [
    "# Plot the solution set"
   ]
  }
 ],
 "metadata": {
  "language_info": {
   "name": "python"
  },
  "orig_nbformat": 4
 },
 "nbformat": 4,
 "nbformat_minor": 2
}
